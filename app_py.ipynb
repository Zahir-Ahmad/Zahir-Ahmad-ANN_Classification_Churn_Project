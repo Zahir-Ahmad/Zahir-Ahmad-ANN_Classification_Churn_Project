{
  "nbformat": 4,
  "nbformat_minor": 0,
  "metadata": {
    "colab": {
      "provenance": []
    },
    "kernelspec": {
      "name": "python3",
      "display_name": "Python 3"
    },
    "language_info": {
      "name": "python"
    }
  },
  "cells": [
    {
      "cell_type": "code",
      "source": [
        "%%writefile app.py\n",
        "import pandas as pd\n",
        "import streamlit as st\n",
        "import pickle\n",
        "from tensorflow.keras.models import load_model\n",
        "\n",
        "model = load_model('/content/drive/MyDrive/ANN_Project/ANN_P1/model.h5')\n",
        "\n",
        "with open('/content/drive/MyDrive/ANN_Project/ANN_P1/label_encoder_gender.pkl', 'rb') as file:\n",
        "    label_encoder_gender = pickle.load(file)\n",
        "\n",
        "with open('/content/drive/MyDrive/ANN_Project/ANN_P1/one_hot_encoder.pkl', 'rb') as file:\n",
        "    one_hot_encoder_geo = pickle.load(file)\n",
        "\n",
        "with open('/content/drive/MyDrive/ANN_Project/ANN_P1/scaler.pkl', 'rb') as file:\n",
        "    scaler = pickle.load(file)\n",
        "\n",
        "st.title(\"Bank Customer Churn Prediction\")\n",
        "\n",
        "credit_score = st.number_input(\"Credit Score\", min_value=300, max_value=900, value=600)\n",
        "geography = st.selectbox(\"Geography\", ['France', 'Germany', 'Spain'])\n",
        "gender = st.selectbox(\"Gender\", ['Male', 'Female'])\n",
        "age = st.slider(\"Age\", 18, 100, 40)\n",
        "tenure = st.slider(\"Tenure\", 0, 10, 3)\n",
        "balance = st.number_input(\"Balance\", value=60000.0)\n",
        "num_products = st.selectbox(\"Number of Products\", [1, 2, 3, 4])\n",
        "has_cr_card = st.selectbox(\"Has Credit Card?\", [0, 1])\n",
        "is_active_member = st.selectbox(\"Is Active Member?\", [0, 1])\n",
        "estimated_salary = st.number_input(\"Estimated Salary\", value=50000.0)\n",
        "\n",
        "if st.button(\"Predict\"):\n",
        "    input_df = pd.DataFrame([{\n",
        "        'CreditScore': credit_score,\n",
        "        'Geography': geography,\n",
        "        'Gender': gender,\n",
        "        'Age': age,\n",
        "        'Tenure': tenure,\n",
        "        'Balance': balance,\n",
        "        'NumOfProducts': num_products,\n",
        "        'HasCrCard': has_cr_card,\n",
        "        'IsActiveMember': is_active_member,\n",
        "        'EstimatedSalary': estimated_salary\n",
        "    }])\n",
        "\n",
        "    input_df['Gender'] = label_encoder_gender.transform(input_df['Gender'])\n",
        "    geo_encoded = one_hot_encoder_geo.transform(input_df[['Geography']]).toarray()\n",
        "    geo_encoded_df = pd.DataFrame(geo_encoded, columns=one_hot_encoder_geo.get_feature_names_out(['Geography']))\n",
        "    input_df = input_df.drop('Geography', axis=1)\n",
        "    input_df = pd.concat([input_df, geo_encoded_df], axis=1)\n",
        "    input_scaled = scaler.transform(input_df)\n",
        "\n",
        "    prediction = model.predict(input_scaled)\n",
        "    prob = prediction[0][0]\n",
        "\n",
        "    st.subheader(\"Prediction Result\")\n",
        "    st.write(f\"Churn Probability: {prob:.2f}\")\n",
        "    if prob > 0.5:\n",
        "        st.error(\"Customer is likely to churn.\")\n",
        "    else:\n",
        "        st.success(\"Customer is likely to stay.\")\n"
      ],
      "metadata": {
        "colab": {
          "base_uri": "https://localhost:8080/"
        },
        "id": "tZOVISRvAWvj",
        "outputId": "323a78af-bb52-4fb9-9174-bcd9a97ddac0"
      },
      "execution_count": null,
      "outputs": [
        {
          "output_type": "stream",
          "name": "stdout",
          "text": [
            "Overwriting app.py\n"
          ]
        }
      ]
    },
    {
      "cell_type": "code",
      "source": [
        "from pyngrok import ngrok\n",
        "import time\n",
        "\n",
        "# Set your ngrok authtoken\n",
        "ngrok.set_auth_token(\"2ygJmfo7hJMJy790WoDiWStHdfO_3AjuafbUTmbMhNQ9VFzkM\")\n",
        "\n",
        "# Kill previous streamlit processes (if any)\n",
        "!pkill streamlit\n",
        "\n",
        "# Launch the Streamlit app in background\n",
        "!streamlit run app.py &>/dev/null &\n",
        "\n",
        "# Give it a few seconds to start\n",
        "time.sleep(5)\n",
        "\n",
        "# Create a public URL using ngrok\n",
        "public_url = ngrok.connect(\"http://localhost:8501\")\n",
        "print(\"✅ Streamlit app is live at:\", public_url)\n"
      ],
      "metadata": {
        "colab": {
          "base_uri": "https://localhost:8080/"
        },
        "id": "1aia5ws6AW3R",
        "outputId": "6cdfeff2-775f-4025-8024-5e176111d191"
      },
      "execution_count": null,
      "outputs": [
        {
          "output_type": "stream",
          "name": "stdout",
          "text": [
            "✅ Streamlit app is live at: NgrokTunnel: \"https://9c1c-34-169-179-53.ngrok-free.app\" -> \"http://localhost:8501\"\n"
          ]
        }
      ]
    },
    {
      "cell_type": "code",
      "source": [
        "from google.colab import drive\n",
        "drive.mount('/content/drive')\n"
      ],
      "metadata": {
        "colab": {
          "base_uri": "https://localhost:8080/"
        },
        "id": "ROG2V9hiMJzW",
        "outputId": "35d1bcae-5b80-4a90-a6f9-4d4ebac3f9b8"
      },
      "execution_count": null,
      "outputs": [
        {
          "output_type": "stream",
          "name": "stdout",
          "text": [
            "Drive already mounted at /content/drive; to attempt to forcibly remount, call drive.mount(\"/content/drive\", force_remount=True).\n"
          ]
        }
      ]
    },
    {
      "cell_type": "code",
      "source": [
        "!ls /content/drive/MyDrive/ANN_Project/ANN_P1/\n"
      ],
      "metadata": {
        "colab": {
          "base_uri": "https://localhost:8080/"
        },
        "id": "UWveIvgRAW68",
        "outputId": "94c697b3-458f-43d9-b2cd-9b2a14e275e6"
      },
      "execution_count": null,
      "outputs": [
        {
          "output_type": "stream",
          "name": "stdout",
          "text": [
            "label_encoder_gender.pkl  model.h5  one_hot_encoder.pkl  scaler.pkl\n"
          ]
        }
      ]
    },
    {
      "cell_type": "code",
      "source": [
        "!wget -q -O - ipv4.icanhazip.com\n"
      ],
      "metadata": {
        "colab": {
          "base_uri": "https://localhost:8080/"
        },
        "id": "gQbyKkToHWHc",
        "outputId": "9a4ad2b8-c361-4729-8281-bfcd27bf3fdf"
      },
      "execution_count": null,
      "outputs": [
        {
          "output_type": "stream",
          "name": "stdout",
          "text": [
            "34.169.179.53\n"
          ]
        }
      ]
    },
    {
      "cell_type": "code",
      "source": [
        "!streamlit run app.py & npx localtunnel --port 8501"
      ],
      "metadata": {
        "colab": {
          "base_uri": "https://localhost:8080/"
        },
        "id": "9o62kjvdHWK9",
        "outputId": "c71a687d-359d-44c6-8b85-2ca8bcbd7c72"
      },
      "execution_count": null,
      "outputs": [
        {
          "output_type": "stream",
          "name": "stdout",
          "text": [
            "\n",
            "Collecting usage statistics. To deactivate, set browser.gatherUsageStats to false.\n",
            "\u001b[0m\n",
            "\u001b[1G\u001b[0K⠙\u001b[1G\u001b[0K⠹\u001b[1G\u001b[0K⠸\u001b[1G\u001b[0K⠼\u001b[1G\u001b[0K⠴\u001b[1G\u001b[0K⠦\u001b[0m\n",
            "\u001b[34m\u001b[1m  You can now view your Streamlit app in your browser.\u001b[0m\n",
            "\u001b[0m\n",
            "\u001b[34m  Local URL: \u001b[0m\u001b[1mhttp://localhost:8502\u001b[0m\n",
            "\u001b[34m  Network URL: \u001b[0m\u001b[1mhttp://172.28.0.12:8502\u001b[0m\n",
            "\u001b[34m  External URL: \u001b[0m\u001b[1mhttp://34.169.179.53:8502\u001b[0m\n",
            "\u001b[0m\n",
            "\u001b[1G\u001b[0K⠧\u001b[1G\u001b[0K⠇\u001b[1G\u001b[0Kyour url is: https://common-impalas-design.loca.lt\n",
            "\u001b[34m  Stopping...\u001b[0m\n",
            "^C\n"
          ]
        }
      ]
    },
    {
      "cell_type": "code",
      "source": [],
      "metadata": {
        "id": "GbJvDhvNHWNx"
      },
      "execution_count": null,
      "outputs": []
    }
  ]
}